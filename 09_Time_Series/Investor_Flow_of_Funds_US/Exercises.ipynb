{
 "cells": [
  {
   "cell_type": "markdown",
   "metadata": {},
   "source": [
    "# Investor - Flow of Funds - US"
   ]
  },
  {
   "cell_type": "markdown",
   "metadata": {},
   "source": [
    "### Introduction:\n",
    "\n",
    "Special thanks to: https://github.com/rgrp for sharing the dataset.\n",
    "\n",
    "### Step 1. Import the necessary libraries"
   ]
  },
  {
   "cell_type": "markdown",
   "metadata": {},
   "source": []
  },
  {
   "cell_type": "code",
   "execution_count": 6,
   "metadata": {},
   "outputs": [],
   "source": [
    "import pandas as pd\n"
   ]
  },
  {
   "cell_type": "markdown",
   "metadata": {},
   "source": [
    "### Step 2. Import the dataset from this [address](https://raw.githubusercontent.com/datasets/investor-flow-of-funds-us/master/data/weekly.csv). "
   ]
  },
  {
   "cell_type": "code",
   "execution_count": 7,
   "metadata": {},
   "outputs": [],
   "source": []
  },
  {
   "cell_type": "markdown",
   "metadata": {},
   "source": [
    "### Step 3. Assign it to a variable called "
   ]
  },
  {
   "cell_type": "code",
   "execution_count": 4,
   "metadata": {},
   "outputs": [
    {
     "ename": "NameError",
     "evalue": "name 'df' is not defined",
     "output_type": "error",
     "traceback": [
      "\u001b[1;31m---------------------------------------------------------------------------\u001b[0m",
      "\u001b[1;31mNameError\u001b[0m                                 Traceback (most recent call last)",
      "Cell \u001b[1;32mIn[4], line 1\u001b[0m\n\u001b[1;32m----> 1\u001b[0m \u001b[43mdf\u001b[49m\u001b[38;5;241m.\u001b[39mhead()\n",
      "\u001b[1;31mNameError\u001b[0m: name 'df' is not defined"
     ]
    }
   ],
   "source": []
  },
  {
   "cell_type": "code",
   "execution_count": null,
   "metadata": {},
   "outputs": [],
   "source": []
  },
  {
   "cell_type": "markdown",
   "metadata": {},
   "source": [
    "### Step 4.  What is the frequency of the dataset?"
   ]
  },
  {
   "cell_type": "code",
   "execution_count": 8,
   "metadata": {},
   "outputs": [
    {
     "data": {
      "text/plain": [
       "<bound method NDFrame.head of           Date  Total Equity  Domestic Equity  World Equity  Hybrid  \\\n",
       "0   2012-12-05         -7426            -6060         -1367     -74   \n",
       "1   2012-12-12         -8783            -7520         -1263     123   \n",
       "2   2012-12-19         -5496            -5470           -26     -73   \n",
       "3   2012-12-26         -4451            -4076          -375     550   \n",
       "4   2013-01-02        -11156            -9622         -1533    -158   \n",
       "5   2013-01-09         14817             7995          6821    2888   \n",
       "6   2014-04-02          3155              938          2217     265   \n",
       "7   2014-04-09          5761             2080          3681    1482   \n",
       "8   2014-04-16          2286              634          1652    1186   \n",
       "9   2014-04-23          3530             1392          2138    1239   \n",
       "10  2014-04-30         -3890            -3996           106     759   \n",
       "11  2014-05-07           632            -2006          2639    -340   \n",
       "12  2014-05-14         -1079            -2321          1242    1188   \n",
       "13  2014-05-21           697            -1790          2487    1216   \n",
       "14  2014-05-28         -2453            -2603           150    1108   \n",
       "15  2014-06-04          2098            -1148          3246    1123   \n",
       "16  2014-06-11          1236            -1840          3075    1159   \n",
       "17  2014-06-18          -922            -2204          1282    1060   \n",
       "18  2014-06-25           -93            -1354          1262    1246   \n",
       "19  2014-07-02         -7835            -8887          1052     636   \n",
       "20  2014-07-09           666            -1070          1736    1006   \n",
       "21  2014-07-30           118            -1171          1290    1024   \n",
       "22  2014-08-06          -471            -3073          2602    -375   \n",
       "23  2014-08-13           320             -974          1294     496   \n",
       "24  2014-08-20          2671              738          1933     821   \n",
       "25  2014-08-27          -577            -2199          1623     943   \n",
       "26  2014-09-03         -4024            -5305          1281     544   \n",
       "27  2014-09-10          1257            -1291          2548    1055   \n",
       "28  2014-11-05           -32            -1634          1602    -176   \n",
       "29  2014-11-12          1464               61          1403     963   \n",
       "30  2014-11-19         -3010            -3622           611      99   \n",
       "31  2014-11-25         -1175            -2044           869    -157   \n",
       "32  2015-01-07         -3913            -5438          1525   -1057   \n",
       "33  2015-01-14          1774              -37          1811     248   \n",
       "34  2015-01-21          1267              856           411     790   \n",
       "35  2015-01-28          4343             3455           888    1748   \n",
       "36  2015-02-04          4240             3536           703     793   \n",
       "37  2015-02-11          1268              -27          1296     959   \n",
       "38  2015-03-04           999            -1933          2932     528   \n",
       "39  2015-03-11          3911               -7          3918     851   \n",
       "40  2015-03-18          1948            -1758          3706     912   \n",
       "41  2015-03-25         -1167            -4478          3311     538   \n",
       "42  2015-04-01         -1527            -3307          1780     720   \n",
       "43  2015-04-08          1906            -1321          3227     250   \n",
       "\n",
       "    Total Bond  Taxable Bond  Municipal Bond  Total  \n",
       "0         5317          4210            1107  -2183  \n",
       "1         1818          1598             219  -6842  \n",
       "2          103          3472           -3369  -5466  \n",
       "3         2610          3333            -722  -1291  \n",
       "4         2383          2103             280  -8931  \n",
       "5         9766          7311            2455  27471  \n",
       "6         3379          3129             250   6799  \n",
       "7         1609          1448             161   8852  \n",
       "8          633           604              29   4105  \n",
       "9         1984          1453             531   6753  \n",
       "10         888           559             329  -2242  \n",
       "11        5493          4417            1076   5785  \n",
       "12        4037          3141             897   4146  \n",
       "13        2196          1398             798   4109  \n",
       "14        2041          1236             805    696  \n",
       "15         188          -470             658   3409  \n",
       "16        2112          1587             524   4506  \n",
       "17        4159          3740             419   4297  \n",
       "18        3256          2694             562   4409  \n",
       "19        2979          2704             276  -4220  \n",
       "20        2721          3203            -482   4393  \n",
       "21        1806          1119             687   2949  \n",
       "22       -8193         -8658             465  -9040  \n",
       "23        1436           539             897   2252  \n",
       "24        4999          4185             814   8490  \n",
       "25        3655          2921             734   4021  \n",
       "26        2430          1768             661  -1050  \n",
       "27        1554           711             843   3866  \n",
       "28        5813          5284             529   5604  \n",
       "29        3596          2703             893   6023  \n",
       "30        2529          1758             771   -383  \n",
       "31        2590          1821             769   1258  \n",
       "32       -3403         -4729            1326  -8373  \n",
       "33        3549          2582             967   5572  \n",
       "34        1258           220            1038   3315  \n",
       "35        5964          4689            1275  12055  \n",
       "36        3237          2274             963   8270  \n",
       "37        5862          5169             693   8089  \n",
       "38        4984          4309             675   6511  \n",
       "39        1298           999             298   6059  \n",
       "40         452           258             194   3312  \n",
       "41        2404          1701             703   1775  \n",
       "42       -1296         -1392              96  -2103  \n",
       "43        1719          1906            -187   3875  >"
      ]
     },
     "execution_count": 8,
     "metadata": {},
     "output_type": "execute_result"
    }
   ],
   "source": []
  },
  {
   "cell_type": "markdown",
   "metadata": {},
   "source": [
    "### Step 5. Set the column Date as the index."
   ]
  },
  {
   "cell_type": "code",
   "execution_count": 9,
   "metadata": {},
   "outputs": [],
   "source": [
    "df = df.set_index('Date', inplace=True)"
   ]
  },
  {
   "cell_type": "markdown",
   "metadata": {},
   "source": [
    "### Step 6. What is the type of the index?"
   ]
  },
  {
   "cell_type": "code",
   "execution_count": 1,
   "metadata": {},
   "outputs": [
    {
     "ename": "NameError",
     "evalue": "name 'df' is not defined",
     "output_type": "error",
     "traceback": [
      "\u001b[1;31m---------------------------------------------------------------------------\u001b[0m",
      "\u001b[1;31mNameError\u001b[0m                                 Traceback (most recent call last)",
      "Cell \u001b[1;32mIn[1], line 1\u001b[0m\n\u001b[1;32m----> 1\u001b[0m investor \u001b[38;5;241m=\u001b[39m \u001b[43mdf\u001b[49m\n\u001b[0;32m      2\u001b[0m investo\u001b[38;5;241m.\u001b[39mindex\n",
      "\u001b[1;31mNameError\u001b[0m: name 'df' is not defined"
     ]
    }
   ],
   "source": [
    "investor = df\n",
    "investo.index"
   ]
  },
  {
   "cell_type": "markdown",
   "metadata": {},
   "source": [
    "### Step 7. Set the index to a DatetimeIndex type"
   ]
  },
  {
   "cell_type": "code",
   "execution_count": 8,
   "metadata": {},
   "outputs": [
    {
     "ename": "NameError",
     "evalue": "name 'pd' is not defined",
     "output_type": "error",
     "traceback": [
      "\u001b[1;31m---------------------------------------------------------------------------\u001b[0m",
      "\u001b[1;31mNameError\u001b[0m                                 Traceback (most recent call last)",
      "Cell \u001b[1;32mIn[8], line 1\u001b[0m\n\u001b[1;32m----> 1\u001b[0m df\u001b[38;5;241m.\u001b[39mindex \u001b[38;5;241m=\u001b[39m \u001b[43mpd\u001b[49m\u001b[38;5;241m.\u001b[39mto_datetime(df\u001b[38;5;241m.\u001b[39mindex)\n",
      "\u001b[1;31mNameError\u001b[0m: name 'pd' is not defined"
     ]
    }
   ],
   "source": [
    "df.index = pd.to_datetime(df.index)"
   ]
  },
  {
   "cell_type": "markdown",
   "metadata": {},
   "source": [
    "### Step 8.  Change the frequency to monthly, sum the values and assign it to monthly."
   ]
  },
  {
   "cell_type": "code",
   "execution_count": null,
   "metadata": {},
   "outputs": [],
   "source": []
  },
  {
   "cell_type": "markdown",
   "metadata": {},
   "source": [
    "### Step 9. You will notice that it filled the dataFrame with months that don't have any data with NaN. Let's drop these rows."
   ]
  },
  {
   "cell_type": "code",
   "execution_count": null,
   "metadata": {},
   "outputs": [],
   "source": []
  },
  {
   "cell_type": "markdown",
   "metadata": {},
   "source": [
    "### Step 10. Good, now we have the monthly data. Now change the frequency to year."
   ]
  },
  {
   "cell_type": "code",
   "execution_count": null,
   "metadata": {},
   "outputs": [],
   "source": []
  },
  {
   "cell_type": "markdown",
   "metadata": {},
   "source": [
    "### BONUS: Create your own question and answer it."
   ]
  },
  {
   "cell_type": "code",
   "execution_count": null,
   "metadata": {
    "collapsed": true
   },
   "outputs": [],
   "source": []
  }
 ],
 "metadata": {
  "kernelspec": {
   "display_name": "Python 3 (ipykernel)",
   "language": "python",
   "name": "python3"
  },
  "language_info": {
   "codemirror_mode": {
    "name": "ipython",
    "version": 3
   },
   "file_extension": ".py",
   "mimetype": "text/x-python",
   "name": "python",
   "nbconvert_exporter": "python",
   "pygments_lexer": "ipython3",
   "version": "3.10.9"
  }
 },
 "nbformat": 4,
 "nbformat_minor": 1
}
